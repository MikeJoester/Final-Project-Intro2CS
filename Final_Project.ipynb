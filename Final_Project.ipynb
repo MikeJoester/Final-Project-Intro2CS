{
  "nbformat": 4,
  "nbformat_minor": 2,
  "metadata": {
    "colab": {
      "name": "Challenge_2.ipynb",
      "provenance": []
    },
    "kernelspec": {
      "name": "python3",
      "display_name": "Python 3.6.8 64-bit"
    },
    "language_info": {
      "name": "python",
      "version": "3.6.8",
      "mimetype": "text/x-python",
      "codemirror_mode": {
        "name": "ipython",
        "version": 3
      },
      "pygments_lexer": "ipython3",
      "nbconvert_exporter": "python",
      "file_extension": ".py"
    },
    "interpreter": {
      "hash": "2dfa90f959efc1472c8a30a55e778d84105a44fd056efa17a7cc0331a9b056fe"
    }
  },
  "cells": [
    {
      "cell_type": "markdown",
      "source": [
        "# A. Data and setup:"
      ],
      "metadata": {}
    },
    {
      "cell_type": "markdown",
      "source": [
        "## 1. Import essential and visualization libraries / packages: numpy, pandas, statistics, matplotlib, seaborn;"
      ],
      "metadata": {}
    },
    {
      "cell_type": "code",
      "execution_count": 230,
      "source": [
        "#import stuffs\r\n",
        "import numpy as np\r\n",
        "import statistics as sts\r\n",
        "import pandas as pd\r\n",
        "import matplotlib.pyplot as plt\r\n",
        "import seaborn as sns\r\n",
        "import os\r\n",
        "os.chdir(os.getcwd())"
      ],
      "outputs": [],
      "metadata": {
        "id": "UHPjJBkb4Icq"
      }
    },
    {
      "cell_type": "markdown",
      "source": [
        "## 2. Read in the csv files as a dataframe;"
      ],
      "metadata": {}
    },
    {
      "cell_type": "code",
      "execution_count": 231,
      "source": [
        "#init timer \r\n",
        "import time\r\n",
        "class Timer(object):\r\n",
        "    def __init__(self):\r\n",
        "        self.times = []\r\n",
        "        self.start()\r\n",
        "\r\n",
        "    def start(self):\r\n",
        "        self.start_time = time.time()\r\n",
        "\r\n",
        "    def stop(self):\r\n",
        "        self.times.append(time.time() - self.start_time)\r\n",
        "        return self.times[-1]"
      ],
      "outputs": [],
      "metadata": {}
    },
    {
      "cell_type": "code",
      "execution_count": 232,
      "source": [
        "df_small = pd.read_csv(\"data_steam_small.csv\")\r\n",
        "df_medium = pd.read_csv(\"data_steam_medium.csv\")\r\n",
        "df_large = pd.read_csv(\"data_steam_large.csv\")"
      ],
      "outputs": [],
      "metadata": {}
    },
    {
      "cell_type": "markdown",
      "source": [
        "## 3. Print the first 5 rows of each dataframe."
      ],
      "metadata": {}
    },
    {
      "cell_type": "code",
      "execution_count": 233,
      "source": [
        "df_small.tail(5)"
      ],
      "outputs": [
        {
          "output_type": "execute_result",
          "data": {
            "text/html": [
              "<div>\n",
              "<style scoped>\n",
              "    .dataframe tbody tr th:only-of-type {\n",
              "        vertical-align: middle;\n",
              "    }\n",
              "\n",
              "    .dataframe tbody tr th {\n",
              "        vertical-align: top;\n",
              "    }\n",
              "\n",
              "    .dataframe thead th {\n",
              "        text-align: right;\n",
              "    }\n",
              "</style>\n",
              "<table border=\"1\" class=\"dataframe\">\n",
              "  <thead>\n",
              "    <tr style=\"text-align: right;\">\n",
              "      <th></th>\n",
              "      <th>app_id</th>\n",
              "      <th>app_name</th>\n",
              "      <th>review_id</th>\n",
              "      <th>language</th>\n",
              "      <th>recommended</th>\n",
              "      <th>votes_helpful</th>\n",
              "      <th>steam_purchase</th>\n",
              "      <th>author.steamid</th>\n",
              "      <th>author.playtime_forever</th>\n",
              "    </tr>\n",
              "  </thead>\n",
              "  <tbody>\n",
              "    <tr>\n",
              "      <th>9995</th>\n",
              "      <td>242760</td>\n",
              "      <td>The Forest</td>\n",
              "      <td>80465342</td>\n",
              "      <td>latam</td>\n",
              "      <td>True</td>\n",
              "      <td>0</td>\n",
              "      <td>False</td>\n",
              "      <td>76561198438675186</td>\n",
              "      <td>1557.0</td>\n",
              "    </tr>\n",
              "    <tr>\n",
              "      <th>9996</th>\n",
              "      <td>264710</td>\n",
              "      <td>Subnautica</td>\n",
              "      <td>67498670</td>\n",
              "      <td>danish</td>\n",
              "      <td>True</td>\n",
              "      <td>0</td>\n",
              "      <td>True</td>\n",
              "      <td>76561198887468822</td>\n",
              "      <td>593.0</td>\n",
              "    </tr>\n",
              "    <tr>\n",
              "      <th>9997</th>\n",
              "      <td>292030</td>\n",
              "      <td>The Witcher 3: Wild Hunt</td>\n",
              "      <td>69589614</td>\n",
              "      <td>russian</td>\n",
              "      <td>True</td>\n",
              "      <td>1</td>\n",
              "      <td>True</td>\n",
              "      <td>76561198074970616</td>\n",
              "      <td>3029.0</td>\n",
              "    </tr>\n",
              "    <tr>\n",
              "      <th>9998</th>\n",
              "      <td>227300</td>\n",
              "      <td>Euro Truck Simulator 2</td>\n",
              "      <td>15973476</td>\n",
              "      <td>english</td>\n",
              "      <td>True</td>\n",
              "      <td>0</td>\n",
              "      <td>True</td>\n",
              "      <td>76561198143449576</td>\n",
              "      <td>9686.0</td>\n",
              "    </tr>\n",
              "    <tr>\n",
              "      <th>9999</th>\n",
              "      <td>381210</td>\n",
              "      <td>Dead by Daylight</td>\n",
              "      <td>63092719</td>\n",
              "      <td>thai</td>\n",
              "      <td>True</td>\n",
              "      <td>0</td>\n",
              "      <td>True</td>\n",
              "      <td>76561199015442557</td>\n",
              "      <td>6927.0</td>\n",
              "    </tr>\n",
              "  </tbody>\n",
              "</table>\n",
              "</div>"
            ],
            "text/plain": [
              "      app_id                  app_name  review_id language  recommended  \\\n",
              "9995  242760                The Forest   80465342    latam         True   \n",
              "9996  264710                Subnautica   67498670   danish         True   \n",
              "9997  292030  The Witcher 3: Wild Hunt   69589614  russian         True   \n",
              "9998  227300    Euro Truck Simulator 2   15973476  english         True   \n",
              "9999  381210          Dead by Daylight   63092719     thai         True   \n",
              "\n",
              "      votes_helpful  steam_purchase     author.steamid  \\\n",
              "9995              0           False  76561198438675186   \n",
              "9996              0            True  76561198887468822   \n",
              "9997              1            True  76561198074970616   \n",
              "9998              0            True  76561198143449576   \n",
              "9999              0            True  76561199015442557   \n",
              "\n",
              "      author.playtime_forever  \n",
              "9995                   1557.0  \n",
              "9996                    593.0  \n",
              "9997                   3029.0  \n",
              "9998                   9686.0  \n",
              "9999                   6927.0  "
            ]
          },
          "metadata": {},
          "execution_count": 233
        }
      ],
      "metadata": {}
    },
    {
      "cell_type": "code",
      "execution_count": 234,
      "source": [
        "df_medium.tail(5)"
      ],
      "outputs": [
        {
          "output_type": "execute_result",
          "data": {
            "text/html": [
              "<div>\n",
              "<style scoped>\n",
              "    .dataframe tbody tr th:only-of-type {\n",
              "        vertical-align: middle;\n",
              "    }\n",
              "\n",
              "    .dataframe tbody tr th {\n",
              "        vertical-align: top;\n",
              "    }\n",
              "\n",
              "    .dataframe thead th {\n",
              "        text-align: right;\n",
              "    }\n",
              "</style>\n",
              "<table border=\"1\" class=\"dataframe\">\n",
              "  <thead>\n",
              "    <tr style=\"text-align: right;\">\n",
              "      <th></th>\n",
              "      <th>app_id</th>\n",
              "      <th>app_name</th>\n",
              "      <th>review_id</th>\n",
              "      <th>language</th>\n",
              "      <th>recommended</th>\n",
              "      <th>votes_helpful</th>\n",
              "      <th>steam_purchase</th>\n",
              "      <th>author.steamid</th>\n",
              "      <th>author.playtime_forever</th>\n",
              "    </tr>\n",
              "  </thead>\n",
              "  <tbody>\n",
              "    <tr>\n",
              "      <th>999995</th>\n",
              "      <td>578080</td>\n",
              "      <td>PLAYERUNKNOWN'S BATTLEGROUNDS</td>\n",
              "      <td>46511726</td>\n",
              "      <td>schinese</td>\n",
              "      <td>True</td>\n",
              "      <td>0</td>\n",
              "      <td>True</td>\n",
              "      <td>76561198165175073</td>\n",
              "      <td>42127.0</td>\n",
              "    </tr>\n",
              "    <tr>\n",
              "      <th>999996</th>\n",
              "      <td>518790</td>\n",
              "      <td>theHunter: Call of the Wild™</td>\n",
              "      <td>66042460</td>\n",
              "      <td>german</td>\n",
              "      <td>True</td>\n",
              "      <td>0</td>\n",
              "      <td>True</td>\n",
              "      <td>76561198287911011</td>\n",
              "      <td>1386.0</td>\n",
              "    </tr>\n",
              "    <tr>\n",
              "      <th>999997</th>\n",
              "      <td>239030</td>\n",
              "      <td>Papers, Please</td>\n",
              "      <td>27844689</td>\n",
              "      <td>english</td>\n",
              "      <td>True</td>\n",
              "      <td>0</td>\n",
              "      <td>True</td>\n",
              "      <td>76561197982890226</td>\n",
              "      <td>297.0</td>\n",
              "    </tr>\n",
              "    <tr>\n",
              "      <th>999998</th>\n",
              "      <td>242920</td>\n",
              "      <td>Banished</td>\n",
              "      <td>56553200</td>\n",
              "      <td>english</td>\n",
              "      <td>True</td>\n",
              "      <td>0</td>\n",
              "      <td>True</td>\n",
              "      <td>76561198122657108</td>\n",
              "      <td>6782.0</td>\n",
              "    </tr>\n",
              "    <tr>\n",
              "      <th>999999</th>\n",
              "      <td>578080</td>\n",
              "      <td>PLAYERUNKNOWN'S BATTLEGROUNDS</td>\n",
              "      <td>40677586</td>\n",
              "      <td>thai</td>\n",
              "      <td>True</td>\n",
              "      <td>0</td>\n",
              "      <td>False</td>\n",
              "      <td>76561198341684726</td>\n",
              "      <td>216051.0</td>\n",
              "    </tr>\n",
              "  </tbody>\n",
              "</table>\n",
              "</div>"
            ],
            "text/plain": [
              "        app_id                       app_name  review_id  language  \\\n",
              "999995  578080  PLAYERUNKNOWN'S BATTLEGROUNDS   46511726  schinese   \n",
              "999996  518790   theHunter: Call of the Wild™   66042460    german   \n",
              "999997  239030                 Papers, Please   27844689   english   \n",
              "999998  242920                       Banished   56553200   english   \n",
              "999999  578080  PLAYERUNKNOWN'S BATTLEGROUNDS   40677586      thai   \n",
              "\n",
              "        recommended  votes_helpful  steam_purchase     author.steamid  \\\n",
              "999995         True              0            True  76561198165175073   \n",
              "999996         True              0            True  76561198287911011   \n",
              "999997         True              0            True  76561197982890226   \n",
              "999998         True              0            True  76561198122657108   \n",
              "999999         True              0           False  76561198341684726   \n",
              "\n",
              "        author.playtime_forever  \n",
              "999995                  42127.0  \n",
              "999996                   1386.0  \n",
              "999997                    297.0  \n",
              "999998                   6782.0  \n",
              "999999                 216051.0  "
            ]
          },
          "metadata": {},
          "execution_count": 234
        }
      ],
      "metadata": {}
    },
    {
      "cell_type": "code",
      "execution_count": 235,
      "source": [
        "df_large.tail(5)"
      ],
      "outputs": [
        {
          "output_type": "execute_result",
          "data": {
            "text/html": [
              "<div>\n",
              "<style scoped>\n",
              "    .dataframe tbody tr th:only-of-type {\n",
              "        vertical-align: middle;\n",
              "    }\n",
              "\n",
              "    .dataframe tbody tr th {\n",
              "        vertical-align: top;\n",
              "    }\n",
              "\n",
              "    .dataframe thead th {\n",
              "        text-align: right;\n",
              "    }\n",
              "</style>\n",
              "<table border=\"1\" class=\"dataframe\">\n",
              "  <thead>\n",
              "    <tr style=\"text-align: right;\">\n",
              "      <th></th>\n",
              "      <th>app_id</th>\n",
              "      <th>app_name</th>\n",
              "      <th>review_id</th>\n",
              "      <th>language</th>\n",
              "      <th>recommended</th>\n",
              "      <th>votes_helpful</th>\n",
              "      <th>steam_purchase</th>\n",
              "      <th>author.steamid</th>\n",
              "      <th>author.playtime_forever</th>\n",
              "    </tr>\n",
              "  </thead>\n",
              "  <tbody>\n",
              "    <tr>\n",
              "      <th>21747366</th>\n",
              "      <td>225540</td>\n",
              "      <td>Just Cause 3</td>\n",
              "      <td>56552788</td>\n",
              "      <td>english</td>\n",
              "      <td>True</td>\n",
              "      <td>1</td>\n",
              "      <td>True</td>\n",
              "      <td>76561198954710081</td>\n",
              "      <td>895.0</td>\n",
              "    </tr>\n",
              "    <tr>\n",
              "      <th>21747367</th>\n",
              "      <td>546560</td>\n",
              "      <td>Half-Life: Alyx</td>\n",
              "      <td>73577230</td>\n",
              "      <td>english</td>\n",
              "      <td>True</td>\n",
              "      <td>0</td>\n",
              "      <td>True</td>\n",
              "      <td>76561198035507513</td>\n",
              "      <td>378.0</td>\n",
              "    </tr>\n",
              "    <tr>\n",
              "      <th>21747368</th>\n",
              "      <td>447820</td>\n",
              "      <td>Day of Infamy</td>\n",
              "      <td>35709939</td>\n",
              "      <td>italian</td>\n",
              "      <td>False</td>\n",
              "      <td>0</td>\n",
              "      <td>False</td>\n",
              "      <td>76561198307320654</td>\n",
              "      <td>12.0</td>\n",
              "    </tr>\n",
              "    <tr>\n",
              "      <th>21747369</th>\n",
              "      <td>493340</td>\n",
              "      <td>Planet Coaster</td>\n",
              "      <td>38769766</td>\n",
              "      <td>thai</td>\n",
              "      <td>True</td>\n",
              "      <td>13</td>\n",
              "      <td>True</td>\n",
              "      <td>76561198078295360</td>\n",
              "      <td>2243.0</td>\n",
              "    </tr>\n",
              "    <tr>\n",
              "      <th>21747370</th>\n",
              "      <td>421020</td>\n",
              "      <td>DiRT 4</td>\n",
              "      <td>56840583</td>\n",
              "      <td>english</td>\n",
              "      <td>True</td>\n",
              "      <td>0</td>\n",
              "      <td>False</td>\n",
              "      <td>76561198400171961</td>\n",
              "      <td>1066.0</td>\n",
              "    </tr>\n",
              "  </tbody>\n",
              "</table>\n",
              "</div>"
            ],
            "text/plain": [
              "          app_id         app_name  review_id language  recommended  \\\n",
              "21747366  225540     Just Cause 3   56552788  english         True   \n",
              "21747367  546560  Half-Life: Alyx   73577230  english         True   \n",
              "21747368  447820    Day of Infamy   35709939  italian        False   \n",
              "21747369  493340   Planet Coaster   38769766     thai         True   \n",
              "21747370  421020           DiRT 4   56840583  english         True   \n",
              "\n",
              "          votes_helpful  steam_purchase     author.steamid  \\\n",
              "21747366              1            True  76561198954710081   \n",
              "21747367              0            True  76561198035507513   \n",
              "21747368              0           False  76561198307320654   \n",
              "21747369             13            True  76561198078295360   \n",
              "21747370              0           False  76561198400171961   \n",
              "\n",
              "          author.playtime_forever  \n",
              "21747366                    895.0  \n",
              "21747367                    378.0  \n",
              "21747368                     12.0  \n",
              "21747369                   2243.0  \n",
              "21747370                   1066.0  "
            ]
          },
          "metadata": {},
          "execution_count": 235
        }
      ],
      "metadata": {}
    },
    {
      "cell_type": "markdown",
      "source": [
        "# B. Basic Questions:"
      ],
      "metadata": {}
    },
    {
      "cell_type": "markdown",
      "source": [
        "## 1. Code a function to count different games in each dataset:"
      ],
      "metadata": {}
    },
    {
      "cell_type": "code",
      "execution_count": 236,
      "source": [
        "timer = Timer()\r\n",
        "def count_games(df):\r\n",
        "    timer.start()\r\n",
        "    lst = df['app_id'].values.tolist()\r\n",
        "    lst = set(lst)\r\n",
        "    print('Time to exec count_games function is %.5f sec.' % timer.stop())\r\n",
        "    print(f'There are {len(lst)} different games in this dataset.')"
      ],
      "outputs": [],
      "metadata": {}
    },
    {
      "cell_type": "code",
      "execution_count": 238,
      "source": [
        "count_games(df_small)\r\n",
        "count_games(df_medium)\r\n",
        "count_games(df_large)"
      ],
      "outputs": [
        {
          "output_type": "stream",
          "name": "stdout",
          "text": [
            "Time to exec count_games function is 0.00100 sec.\n",
            "There are 86 different games in this dataset.\n",
            "Time to exec count_games function is 0.09973 sec.\n",
            "There are 315 different games in this dataset.\n",
            "Time to exec count_games function is 2.27260 sec.\n",
            "There are 315 different games in this dataset.\n"
          ]
        }
      ],
      "metadata": {}
    },
    {
      "cell_type": "markdown",
      "source": [
        "## 2. Write a min, max, mean functions to print the game's name, and the smallest, largest, average gaming hours of it in each dataset:"
      ],
      "metadata": {}
    },
    {
      "cell_type": "code",
      "execution_count": 239,
      "source": [
        "def init_subset(id, dset):\r\n",
        "    dst = dset[(dset['app_id'] == id)]\r\n",
        "    lst = dst['author.playtime_forever'].values.tolist()\r\n",
        "    name = dst[(dst['app_id'] == id)]['app_name'].values.tolist()\r\n",
        "    return lst, name"
      ],
      "outputs": [],
      "metadata": {}
    },
    {
      "cell_type": "code",
      "execution_count": 240,
      "source": [
        "timer = Timer()\r\n",
        "def min_max_mean (game_id, df):\r\n",
        "    timer.start()\r\n",
        "    min_val = 99999999\r\n",
        "    max_val = -99999999\r\n",
        "    sum = 0\r\n",
        "    cnt = 0\r\n",
        "\r\n",
        "    subset, name = init_subset(game_id, df)\r\n",
        "\r\n",
        "    for i in subset :\r\n",
        "        if ( i < min_val ): min_val = i\r\n",
        "        if ( i > max_val ): max_val = i\r\n",
        "        sum += i\r\n",
        "        cnt += 1\r\n",
        "    \r\n",
        "    print('Time to exec min_max_mean function is %.5f sec.' % timer.stop())\r\n",
        "    print(f'The game {name[0]} has {cnt} players:')\r\n",
        "    print(f'Minimum hours played: {min_val} hours.')\r\n",
        "    print(f'Maximum hours played: {max_val} hours.')\r\n",
        "    print(f'Mean of the hours played: {sum/cnt} hours.')"
      ],
      "outputs": [],
      "metadata": {}
    },
    {
      "cell_type": "code",
      "execution_count": 241,
      "source": [
        "min_max_mean(359550, df_small)"
      ],
      "outputs": [
        {
          "output_type": "stream",
          "name": "stdout",
          "text": [
            "Time to exec min_max_mean function is 0.00299 sec.\n",
            "The game Tom Clancy's Rainbow Six Siege has 1231 players:\n",
            "Minimum hours played: 5.0 hours.\n",
            "Maximum hours played: 391185.0 hours.\n",
            "Mean of the hours played: 30112.37692932575 hours.\n"
          ]
        }
      ],
      "metadata": {}
    },
    {
      "cell_type": "code",
      "execution_count": 242,
      "source": [
        "min_max_mean(359550, df_medium)"
      ],
      "outputs": [
        {
          "output_type": "stream",
          "name": "stdout",
          "text": [
            "Time to exec min_max_mean function is 0.03191 sec.\n",
            "The game Tom Clancy's Rainbow Six Siege has 38433 players:\n",
            "Minimum hours played: 5.0 hours.\n",
            "Maximum hours played: 913073.0 hours.\n",
            "Mean of the hours played: 30545.55858246819 hours.\n"
          ]
        }
      ],
      "metadata": {}
    },
    {
      "cell_type": "code",
      "execution_count": 243,
      "source": [
        "min_max_mean(359550, df_large)"
      ],
      "outputs": [
        {
          "output_type": "stream",
          "name": "stdout",
          "text": [
            "Time to exec min_max_mean function is 0.49182 sec.\n",
            "The game Tom Clancy's Rainbow Six Siege has 841918 players:\n",
            "Minimum hours played: 1.0 hours.\n",
            "Maximum hours played: 1290637.0 hours.\n",
            "Mean of the hours played: 30663.04475495238 hours.\n"
          ]
        }
      ],
      "metadata": {}
    },
    {
      "cell_type": "markdown",
      "source": [
        "# C. Algorithms:"
      ],
      "metadata": {}
    },
    {
      "cell_type": "markdown",
      "source": [
        "## 1. A function to detect even and odd numbers, and count how many IDs that are odd or even:"
      ],
      "metadata": {}
    },
    {
      "cell_type": "code",
      "execution_count": 244,
      "source": [
        "def odd_even(x):\r\n",
        "    return True if x % 2 == 0 else False"
      ],
      "outputs": [],
      "metadata": {}
    },
    {
      "cell_type": "code",
      "execution_count": 245,
      "source": [
        "timer = Timer()\r\n",
        "def list_oe(df):\r\n",
        "    timer.start()\r\n",
        "    odd, even = 0, 0\r\n",
        "    lst = df['review_id'].values.tolist()\r\n",
        "    for i in lst:\r\n",
        "        if odd_even(i): odd += 1\r\n",
        "        else: even += 1\r\n",
        "    print('Time to exec list_oe function is %.5f sec.' % timer.stop())\r\n",
        "    print(f'There are {odd} odd and {even} even review IDs in the dataset')"
      ],
      "outputs": [],
      "metadata": {}
    },
    {
      "cell_type": "code",
      "execution_count": 246,
      "source": [
        "list_oe(df_small)"
      ],
      "outputs": [
        {
          "output_type": "stream",
          "name": "stdout",
          "text": [
            "Time to exec list_oe function is 0.00199 sec.\n",
            "There are 5061 odd and 4939 even review IDs in the dataset\n"
          ]
        }
      ],
      "metadata": {}
    },
    {
      "cell_type": "code",
      "execution_count": 247,
      "source": [
        "list_oe(df_medium)"
      ],
      "outputs": [
        {
          "output_type": "stream",
          "name": "stdout",
          "text": [
            "Time to exec list_oe function is 0.26329 sec.\n",
            "There are 500339 odd and 499661 even review IDs in the dataset\n"
          ]
        }
      ],
      "metadata": {}
    },
    {
      "cell_type": "code",
      "execution_count": 248,
      "source": [
        "list_oe(df_large)"
      ],
      "outputs": [
        {
          "output_type": "stream",
          "name": "stdout",
          "text": [
            "Time to exec list_oe function is 5.03229 sec.\n",
            "There are 10871139 odd and 10876232 even review IDs in the dataset\n"
          ]
        }
      ],
      "metadata": {}
    },
    {
      "cell_type": "markdown",
      "source": [
        "## 2. Code a search function to find the name of the game and count the number of *newbies* (0 to 100 hours), *casual players* (100 to 1000 hours) and *veteran players* (above 1000 hours) of the given game ID in each dataset:"
      ],
      "metadata": {}
    },
    {
      "cell_type": "code",
      "execution_count": 249,
      "source": [
        "def check_gamer(x):\r\n",
        "    if x <= 100: return 1\r\n",
        "    if 100 < x <= 1000: return 2\r\n",
        "    if x > 1000: return 3"
      ],
      "outputs": [],
      "metadata": {}
    },
    {
      "cell_type": "code",
      "execution_count": 250,
      "source": [
        "timer = Timer()\r\n",
        "def count_gamers(game_id, df):\r\n",
        "    timer.start()\r\n",
        "    new, cas, vet = 0, 0, 0\r\n",
        "    lst, name = init_subset(game_id, df)\r\n",
        "    for i in lst:\r\n",
        "        if check_gamer(i) == 1: new += 1\r\n",
        "        if check_gamer(i) == 2: cas += 1\r\n",
        "        if check_gamer(i) == 3: vet += 1\r\n",
        "    print('Time to exec count_gamer function is %.5f sec.' % timer.stop())\r\n",
        "    print(f'In {name[0]}, there are: \\n- {new} Newbies; \\n- {cas} Casual Players; \\n- {vet} Veteran Players.')"
      ],
      "outputs": [],
      "metadata": {}
    },
    {
      "cell_type": "code",
      "execution_count": 251,
      "source": [
        "count_gamers(292030, df_small)"
      ],
      "outputs": [
        {
          "output_type": "stream",
          "name": "stdout",
          "text": [
            "Time to exec count_gamer function is 0.00399 sec.\n",
            "In The Witcher 3: Wild Hunt, there are: \n",
            "- 6 Newbies; \n",
            "- 56 Casual Players; \n",
            "- 601 Veteran Players.\n"
          ]
        }
      ],
      "metadata": {}
    },
    {
      "cell_type": "code",
      "execution_count": 252,
      "source": [
        "count_gamers(292030, df_medium)"
      ],
      "outputs": [
        {
          "output_type": "stream",
          "name": "stdout",
          "text": [
            "Time to exec count_gamer function is 0.05286 sec.\n",
            "In The Witcher 3: Wild Hunt, there are: \n",
            "- 208 Newbies; \n",
            "- 1903 Casual Players; \n",
            "- 19416 Veteran Players.\n"
          ]
        }
      ],
      "metadata": {}
    },
    {
      "cell_type": "code",
      "execution_count": 253,
      "source": [
        "count_gamers(292030, df_large)"
      ],
      "outputs": [
        {
          "output_type": "stream",
          "name": "stdout",
          "text": [
            "Time to exec count_gamer function is 0.80966 sec.\n",
            "In The Witcher 3: Wild Hunt, there are: \n",
            "- 4535 Newbies; \n",
            "- 40211 Casual Players; \n",
            "- 424649 Veteran Players.\n"
          ]
        }
      ],
      "metadata": {}
    },
    {
      "cell_type": "markdown",
      "source": [
        "## 3. Code a sort function to list *ten of the most tryhard players* by ID in a given game ID in each of the dataset (who has a lot of Steam purchases)."
      ],
      "metadata": {}
    },
    {
      "cell_type": "code",
      "execution_count": 254,
      "source": [
        "def qsort(arr):\r\n",
        "    n = len(arr)\r\n",
        "\r\n",
        "    if n < 2:\r\n",
        "        return arr\r\n",
        "    \r\n",
        "    current_pos = 0\r\n",
        "\r\n",
        "    for i in range(1, n):\r\n",
        "         if arr[i] <= arr[0]:\r\n",
        "              current_pos += 1\r\n",
        "              temp = arr[i]\r\n",
        "              arr[i] = arr[current_pos]\r\n",
        "              arr[current_pos] = temp\r\n",
        "\r\n",
        "    temp = arr[0]\r\n",
        "    arr[0] = arr[current_pos] \r\n",
        "    arr[current_pos] = temp\r\n",
        "    \r\n",
        "    left = qsort(arr[0: current_pos]) \r\n",
        "    right = qsort(arr[current_pos+1: n]) \r\n",
        "\r\n",
        "    arr = left + [arr[current_pos]] + right\r\n",
        "    \r\n",
        "    return arr"
      ],
      "outputs": [],
      "metadata": {}
    },
    {
      "cell_type": "code",
      "execution_count": 255,
      "source": [
        "timer = Timer()\r\n",
        "def gamer_list(game_id, df):\r\n",
        "    timer.start()\r\n",
        "\r\n",
        "    subset, name = init_subset(game_id, df)\r\n",
        "    subset = qsort(subset)\r\n",
        "    print(f\"List of the top veteran gamers of {name[0]}:\")\r\n",
        "    count = 1\r\n",
        "    for i in reversed(range(len(subset) - 5, len(subset))): \r\n",
        "        dst = df[(df['app_id'] == game_id) & (df['author.playtime_forever'] == subset[i])]\r\n",
        "        print('Player with the Steam ID of',dst['author.steamid'].iloc[0], 'has spent', subset[i], 'hours.')\r\n",
        "        count+=1\r\n",
        "    print('Time to exec gamer_list function is %.5f sec.' % timer.stop())"
      ],
      "outputs": [],
      "metadata": {}
    },
    {
      "cell_type": "code",
      "execution_count": 256,
      "source": [
        "gamer_list(359550, df_small)"
      ],
      "outputs": [
        {
          "output_type": "stream",
          "name": "stdout",
          "text": [
            "List of the top veteran gamers of Tom Clancy's Rainbow Six Siege:\n",
            "Player with the Steam ID of 76561198154035827 has spent 391185.0 hours.\n",
            "Player with the Steam ID of 76561198356047100 has spent 286103.0 hours.\n",
            "Player with the Steam ID of 76561198376604120 has spent 251366.0 hours.\n",
            "Player with the Steam ID of 76561198108078089 has spent 222984.0 hours.\n",
            "Player with the Steam ID of 76561198352050828 has spent 213372.0 hours.\n",
            "Time to exec gamer_list function is 0.02393 sec.\n"
          ]
        }
      ],
      "metadata": {}
    },
    {
      "cell_type": "code",
      "execution_count": 257,
      "source": [
        "gamer_list(359550, df_medium)"
      ],
      "outputs": [
        {
          "output_type": "stream",
          "name": "stdout",
          "text": [
            "List of the top veteran gamers of Tom Clancy's Rainbow Six Siege:\n",
            "Player with the Steam ID of 76561198824344994 has spent 913073.0 hours.\n",
            "Player with the Steam ID of 76561197995627463 has spent 720340.0 hours.\n",
            "Player with the Steam ID of 76561198281668904 has spent 691221.0 hours.\n",
            "Player with the Steam ID of 76561198125916358 has spent 674140.0 hours.\n",
            "Player with the Steam ID of 76561198116749257 has spent 576502.0 hours.\n",
            "Time to exec gamer_list function is 0.37200 sec.\n"
          ]
        }
      ],
      "metadata": {}
    },
    {
      "cell_type": "code",
      "execution_count": 258,
      "source": [
        "gamer_list(359550, df_large)"
      ],
      "outputs": [
        {
          "output_type": "stream",
          "name": "stdout",
          "text": [
            "List of the top veteran gamers of Tom Clancy's Rainbow Six Siege:\n",
            "Player with the Steam ID of 76561198084676628 has spent 1290637.0 hours.\n",
            "Player with the Steam ID of 76561198117501846 has spent 1241830.0 hours.\n",
            "Player with the Steam ID of 76561198125619625 has spent 1200949.0 hours.\n",
            "Player with the Steam ID of 76561197960623457 has spent 1185191.0 hours.\n",
            "Player with the Steam ID of 76561198287628621 has spent 1162654.0 hours.\n",
            "Time to exec gamer_list function is 8.20635 sec.\n"
          ]
        }
      ],
      "metadata": {}
    },
    {
      "cell_type": "markdown",
      "source": [
        "# D. Chart Illustration:"
      ],
      "metadata": {}
    },
    {
      "cell_type": "markdown",
      "source": [
        "## 1. Draw a pie chart to display top 5 languages used for the game reviews (You can use pandas's value_counts function);"
      ],
      "metadata": {}
    },
    {
      "cell_type": "code",
      "execution_count": 259,
      "source": [
        "timer = Timer()\r\n",
        "def pie_chart(df):\r\n",
        "    timer.start()\r\n",
        "    rest = 0\r\n",
        "    lang_list = list(set(df['language'].values.tolist()))\r\n",
        "    lang_count, lang_label = [], []\r\n",
        "    lst = df['language'].value_counts()\r\n",
        "    for i in lang_list:\r\n",
        "        num = lst[i]\r\n",
        "        if num / len(df) < 0.038: rest += num\r\n",
        "        else:\r\n",
        "            lang_count.append(num)\r\n",
        "            lang_label.append(i)\r\n",
        "    lang_count.append(rest)\r\n",
        "    lang_label.append('the rest')\r\n",
        "    plt.pie(lang_count , labels = lang_label, startangle = 0, autopct = '%1.2f%%')\r\n",
        "    plt.legend()\r\n",
        "    plt.show()\r\n",
        "    print('Time to exec pie_chart function is %.5f sec.' % timer.stop())"
      ],
      "outputs": [],
      "metadata": {}
    },
    {
      "cell_type": "code",
      "execution_count": 260,
      "source": [
        "pie_chart(df_small)"
      ],
      "outputs": [
        {
          "output_type": "display_data",
          "data": {
            "image/png": "[encoded data removed]",
            "text/plain": [
              "<Figure size 432x288 with 1 Axes>"
            ]
          },
          "metadata": {}
        }
      ],
      "metadata": {}
    },
    {
      "cell_type": "code",
      "execution_count": 261,
      "source": [
        "pie_chart(df_medium)"
      ],
      "outputs": [
        {
          "output_type": "display_data",
          "data": {
            "image/png": "[encoded data removed]",
            "text/plain": [
              "<Figure size 432x288 with 1 Axes>"
            ]
          },
          "metadata": {}
        }
      ],
      "metadata": {}
    },
    {
      "cell_type": "code",
      "execution_count": 262,
      "source": [
        "pie_chart(df_large)"
      ],
      "outputs": [
        {
          "output_type": "display_data",
          "data": {
            "image/png": "[encoded data removed]",
            "text/plain": [
              "<Figure size 432x288 with 1 Axes>"
            ]
          },
          "metadata": {}
        }
      ],
      "metadata": {}
    },
    {
      "cell_type": "markdown",
      "source": [
        "## 2. Draw horizontal bar plots to show the total players of *5 of the most reviewed game* in the dataset and their *three type of players*."
      ],
      "metadata": {}
    },
    {
      "cell_type": "code",
      "execution_count": 314,
      "source": [
        "def bar_plot(df):\r\n",
        "    new, cas, vet = [], [], []\r\n",
        "    player_count, game_name = [], []\r\n",
        "    ids = list(set(df['app_id'].values.tolist()))\r\n",
        "    lst = df['app_id'].value_counts()\r\n",
        "\r\n",
        "    for i in ids:\r\n",
        "        player_count.append(lst[i])\r\n",
        "        game_name.append(df[(df['app_id'] == i)]['app_name'].values.tolist()[0])\r\n",
        "\r\n",
        "    dff = pd.DataFrame(game_name, columns = ['name'])\r\n",
        "    dff['count'] = player_count\r\n",
        "    dff['id'] = ids\r\n",
        "    dff = dff.sort_values(by ='count', ascending = False)\r\n",
        "    ids = dff['id'].values.tolist()[0:5]\r\n",
        "\r\n",
        "    for i in ids:\r\n",
        "        n, c, v = 0, 0, 0\r\n",
        "        lst, _ = init_subset(i, df)\r\n",
        "        for idx in lst:\r\n",
        "            if check_gamer(idx) == 1: n += 1\r\n",
        "            if check_gamer(idx) == 2: c += 1\r\n",
        "            if check_gamer(idx) == 3: v += 1\r\n",
        "        new.append(n)\r\n",
        "        cas.append(c)\r\n",
        "        vet.append(v)\r\n",
        "\r\n",
        "    labels = dff['name'].values.tolist()[0:5]\r\n",
        "    fig = plt.figure(figsize = (13, 8))\r\n",
        "    plt.bar(labels, new, color = 'r')\r\n",
        "    plt.bar(labels, cas, bottom = new, color = 'g')\r\n",
        "    plt.bar(labels, vet, bottom = cas, color = 'b')\r\n",
        "    plt.title('Top 5 games has the most reviews ever')\r\n",
        "    plt.legend([\"Newbie\", \"Casual\", \"Veteran\"], prop ={'size':20})\r\n",
        "    plt.show()"
      ],
      "outputs": [],
      "metadata": {}
    },
    {
      "cell_type": "code",
      "execution_count": 315,
      "source": [
        "bar_plot(df_small)"
      ],
      "outputs": [
        {
          "output_type": "display_data",
          "data": {
            "image/png": "[encoded data removed]",
            "text/plain": [
              "<Figure size 936x576 with 1 Axes>"
            ]
          },
          "metadata": {
            "needs_background": "light"
          }
        }
      ],
      "metadata": {}
    },
    {
      "cell_type": "code",
      "execution_count": 316,
      "source": [
        "bar_plot(df_medium)"
      ],
      "outputs": [
        {
          "output_type": "display_data",
          "data": {
            "image/png": "[encoded data removed]",
            "text/plain": [
              "<Figure size 936x576 with 1 Axes>"
            ]
          },
          "metadata": {
            "needs_background": "light"
          }
        }
      ],
      "metadata": {}
    },
    {
      "cell_type": "code",
      "execution_count": 317,
      "source": [
        "bar_plot(df_large)"
      ],
      "outputs": [
        {
          "output_type": "display_data",
          "data": {
            "image/png": "[encoded data removed]",
            "text/plain": [
              "<Figure size 936x576 with 1 Axes>"
            ]
          },
          "metadata": {
            "needs_background": "light"
          }
        }
      ],
      "metadata": {}
    }
  ]
}
